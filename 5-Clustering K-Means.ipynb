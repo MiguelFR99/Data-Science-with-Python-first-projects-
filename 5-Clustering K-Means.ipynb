{
 "cells": [
  {
   "cell_type": "markdown",
   "id": "a937c8aa-fe4d-4e26-9e4d-00a5c0d9e1e2",
   "metadata": {},
   "source": [
    "# Clustering\n",
    "## Consumer data in the United States"
   ]
  },
  {
   "cell_type": "code",
   "execution_count": null,
   "id": "3b458b6f-7021-43be-a8a5-014324a0aafd",
   "metadata": {},
   "outputs": [],
   "source": [
    "import matplotlib.pyplot as plt\n",
    "import seaborn as sns\n",
    "import pandas as pd\n",
    "import plotly.express as px\n",
    "from scipy.stats.mstats import trimmed_var\n",
    "from sklearn.cluster import KMeans\n",
    "from sklearn.decomposition import PCA\n",
    "from sklearn.metrics import silhouette_score\n",
    "from sklearn.pipeline import make_pipeline\n",
    "from sklearn.preprocessing import StandardScaler"
   ]
  },
  {
   "cell_type": "code",
   "execution_count": null,
   "id": "19f4e6d2-f7c4-4f4e-9b25-60d7d0a75b97",
   "metadata": {},
   "outputs": [],
   "source": [
    "df = pd.read_csv(\"data/SCFP2019.csv.gz\")\n",
    "print(\"df shape:\", df.shape)\n",
    "df.head()"
   ]
  },
  {
   "cell_type": "code",
   "execution_count": null,
   "id": "6f37a3db-e2ca-4f60-a410-57353be4f5de",
   "metadata": {},
   "outputs": [],
   "source": [
    "# Let's calculate the proportion that are business owners\n",
    "prop_biz_owners = df[\"HBUS\"].sum()/len(df[\"HBUS\"])\n",
    "print(\"proportion of business owners in df:\", prop_biz_owners)"
   ]
  },
  {
   "cell_type": "code",
   "execution_count": null,
   "id": "b85693b1-8919-4569-a327-017ce6877118",
   "metadata": {},
   "outputs": [],
   "source": [
    "# Create a dataframe that shows the normalized frequency differencing business and non-business owners\n",
    "inccat_dict = {\n",
    "    1: \"0-20\",\n",
    "    2: \"21-39.9\",\n",
    "    3: \"40-59.9\",\n",
    "    4: \"60-79.9\",\n",
    "    5: \"80-89.9\",\n",
    "    6: \"90-100\",\n",
    "}\n",
    "\n",
    "df_inccat = (df[\"INCCAT\"]\n",
    "             .replace(inccat_dict)\n",
    "             .groupby(df[\"HBUS\"])\n",
    "             .value_counts(normalize=True)\n",
    "             .rename(\"frequency\")\n",
    "             .to_frame()\n",
    "             .reset_index()\n",
    ")\n",
    "\n",
    "df_inccat"
   ]
  },
  {
   "cell_type": "code",
   "execution_count": null,
   "id": "2bc24e10-f997-4844-b529-457819599c33",
   "metadata": {},
   "outputs": [],
   "source": [
    "# Create bar chart of `df_inccat`\n",
    "sns.barplot(\n",
    "    x=\"INCCAT\",\n",
    "    y=\"frequency\",\n",
    "    hue=\"HBUS\",\n",
    "    data=df_inccat,\n",
    "    order=inccat_dict.values()\n",
    ")\n",
    "plt.xlabel(\"Income Category\")\n",
    "plt.ylabel(\"Frequency (%)\")\n",
    "plt.title(\"Income Distribution: Business Owners vs. Non-Business Owners\");"
   ]
  },
  {
   "cell_type": "code",
   "execution_count": null,
   "id": "3434dcdd-63d7-49da-a7eb-a2ade08c61c5",
   "metadata": {},
   "outputs": [],
   "source": [
    "# Plot \"HOUSES\" vs \"DEBT\" with hue as business ownership\n",
    "sns.scatterplot(x=df[\"DEBT\"] / 1e8, y=df[\"HOUSES\"] / 1e8, hue=df[\"HBUS\"])\n",
    "plt.xlabel(\"Household Debt\")\n",
    "plt.ylabel(\"Home Value\")\n",
    "plt.title(\"Home Value vs. Household Debt\");"
   ]
  },
  {
   "cell_type": "code",
   "execution_count": null,
   "id": "bdedd764-02f7-4db2-96e8-e3862da2f9a2",
   "metadata": {},
   "outputs": [],
   "source": [
    "# Create a new dataframe that contains only business owners whose income is below $500,000.\n",
    "mask = (df[\"INCOME\"] < 500_000) & (df[\"HBUS\"] == 1)\n",
    "df_small_biz = df[mask]\n",
    "print(\"df_small_biz shape:\", df_small_biz.shape)\n",
    "df_small_biz.head()"
   ]
  },
  {
   "cell_type": "code",
   "execution_count": null,
   "id": "1325a53c-a386-4424-b0bb-e8402253a46d",
   "metadata": {},
   "outputs": [],
   "source": [
    "# Plot histogram of \"AGE\"\n",
    "df_small_biz[\"AGE\"].plot(kind=\"hist\", bins=10)\n",
    "plt.xlabel(\"Age\")\n",
    "plt.ylabel(\"Frequency (count)\")\n",
    "plt.title(\"Small Business Owners: Age Distribution\");"
   ]
  },
  {
   "cell_type": "code",
   "execution_count": null,
   "id": "c3304b70-d6e8-4897-b005-09b05a95d2cb",
   "metadata": {},
   "outputs": [],
   "source": [
    "# Calculate variance, get 10 largest features\n",
    "top_ten_var = df_small_biz.var().sort_values().tail(10)\n",
    "top_ten_var"
   ]
  },
  {
   "cell_type": "code",
   "execution_count": null,
   "id": "31787ffc-6a4b-4577-8123-bd5e2099e34f",
   "metadata": {},
   "outputs": [],
   "source": [
    "# Calculate trimmed variance\n",
    "top_ten_trim_var = df_small_biz.apply(trimmed_var, limits= (0.1, 0.1)).sort_values().tail(10)\n",
    "top_ten_trim_var"
   ]
  },
  {
   "cell_type": "code",
   "execution_count": null,
   "id": "e6e25e22-528b-4ef6-9860-e989fd57eec0",
   "metadata": {},
   "outputs": [],
   "source": [
    "# Create horizontal bar chart of `top_ten_trim_var`\n",
    "fig = px.bar(\n",
    "    x=top_ten_trim_var,\n",
    "    y=top_ten_trim_var.index,\n",
    "    title=\"Small Business Owners: High Variance Features\"\n",
    ")\n",
    "fig.update_layout(xaxis_title=\"Trimmed Variance [$]\", yaxis_title=\"Feature\")"
   ]
  },
  {
   "cell_type": "code",
   "execution_count": null,
   "id": "c5bd794b-3f06-47da-8f55-413d9dc6182e",
   "metadata": {},
   "outputs": [],
   "source": [
    "# List with the highest 5 trimmed variance\n",
    "high_var_cols = top_ten_trim_var.tail(5).index.to_list()\n",
    "high_var_cols"
   ]
  },
  {
   "cell_type": "code",
   "execution_count": null,
   "id": "aacd9b4c-05ad-449e-93d9-80534ebbcb61",
   "metadata": {},
   "outputs": [],
   "source": [
    "# Creating the dataframe which I will use for the model\n",
    "X = df_small_biz[high_var_cols]\n",
    "print(\"X shape:\", X.shape)\n",
    "X.head()"
   ]
  },
  {
   "cell_type": "code",
   "execution_count": null,
   "id": "76152d07-e151-4e70-9fc4-92bf6dec4e24",
   "metadata": {},
   "outputs": [],
   "source": [
    "# Cluster with K-Means to understand which number of clusters is better, based on inertia and silhouette scores\n",
    "n_clusters = range(2,13)\n",
    "inertia_errors = []\n",
    "silhouette_scores = []\n",
    "\n",
    "# Add `for` loop to train model and calculate inertia, silhouette score.\n",
    "for k in n_clusters:\n",
    "    # Build model\n",
    "    model = make_pipeline(StandardScaler(), KMeans(n_clusters=k, random_state=42))\n",
    "    # Train model\n",
    "    model.fit(X)\n",
    "    # Calculate inertia\n",
    "    inertia_errors.append(model.named_steps[\"kmeans\"].inertia_)\n",
    "    # Silhouette score\n",
    "    silhouette_scores.append(\n",
    "        silhouette_score(X, model.named_steps[\"kmeans\"].labels_)\n",
    "    )\n",
    "\n",
    "print(\"Inertia:\", inertia_errors[:11])\n",
    "print()\n",
    "print(\"Silhouette Scores:\", silhouette_scores[:3])"
   ]
  },
  {
   "cell_type": "code",
   "execution_count": null,
   "id": "88a5f1cf-cb33-4471-8279-6b2fc048ecd6",
   "metadata": {},
   "outputs": [],
   "source": [
    "# Create line plot of `inertia_errors` vs `n_clusters`\n",
    "fig = px.line(\n",
    "    x=n_clusters, y=inertia_errors, title=\"K-Means Model: Inertia vs Number of Clusters\"\n",
    ")\n",
    "fig.update_layout(xaxis_title=\"Number of Clusters\", yaxis_title=\"Inertia\")"
   ]
  },
  {
   "cell_type": "code",
   "execution_count": null,
   "id": "bc341c68-7fd1-4c83-966c-b0617fe98630",
   "metadata": {},
   "outputs": [],
   "source": [
    "# Create a line plot of `silhouette_scores` vs `n_clusters`\n",
    "fig = px.line(\n",
    "    x=n_clusters,\n",
    "    y=silhouette_scores,\n",
    "    title=\"K-Means Model: Silhouette Score vs Number of Clusters\"\n",
    ")\n",
    "fig.update_layout(xaxis_title=\"Number of Clusters\", yaxis_title=\"Silhouette Score\")"
   ]
  },
  {
   "cell_type": "code",
   "execution_count": null,
   "id": "6b59b8b2-b572-42c3-935f-c21dff007f02",
   "metadata": {},
   "outputs": [],
   "source": [
    "# Create the final model with 3 clusters (optimal number of clusters)\n",
    "final_model = make_pipeline(StandardScaler(), KMeans(n_clusters=3, random_state=42))\n",
    "final_model.fit(X)"
   ]
  },
  {
   "cell_type": "code",
   "execution_count": null,
   "id": "fc0bd503-9508-4c46-b17e-d60dcb4024d2",
   "metadata": {},
   "outputs": [],
   "source": [
    "# Let's see the labels of the clusters\n",
    "labels = final_model.named_steps[\"kmeans\"].labels_\n",
    "xgb = X.groupby(labels).mean()\n",
    "xgb"
   ]
  },
  {
   "cell_type": "code",
   "execution_count": null,
   "id": "91f26c81-0551-4b31-9aed-2c20df34772b",
   "metadata": {},
   "outputs": [],
   "source": [
    "# Create side-by-side bar chart of `xgb`\n",
    "fig = px.bar(\n",
    "    xgb,\n",
    "    barmode=\"group\",\n",
    "    title=\"Small Business Owner Finances by Cluster\",\n",
    ")\n",
    "\n",
    "fig.update_layout(xaxis_title=\"Cluster\", yaxis_title=\"Value [$]\")"
   ]
  },
  {
   "cell_type": "code",
   "execution_count": null,
   "id": "8058b8a5-3a1e-4356-8ba0-358caefb2b43",
   "metadata": {},
   "outputs": [],
   "source": [
    "# Let's reduce the dimensionality of X and convert it to a DataFrame\n",
    "pca = PCA(n_components=2, random_state=42)\n",
    "\n",
    "# Transform `X`\n",
    "X_t = pca.fit_transform(X)\n",
    "\n",
    "# Put `X_t` into DataFrame\n",
    "X_pca = pd.DataFrame(X_t, columns=[\"PC1\", \"PC2\"])\n",
    "\n",
    "print(\"X_pca shape:\", X_pca.shape)\n",
    "X_pca.head()"
   ]
  },
  {
   "cell_type": "code",
   "execution_count": null,
   "id": "355be333-2e4f-47a9-bf16-16c0bcc27059",
   "metadata": {},
   "outputs": [],
   "source": [
    "# Create scatter plot of `PC2` vs `PC1`\n",
    "fig = px.scatter(\n",
    "    data_frame=X_pca,\n",
    "    x=\"PC1\",\n",
    "    y=\"PC2\",\n",
    "    color=labels.astype(str),\n",
    "    title=\"PCA Representation of Clusters\"\n",
    ")\n",
    "\n",
    "fig.update_layout(xaxis_title=\"PC1\", yaxis_title=\"PC2\")"
   ]
  }
 ],
 "metadata": {
  "kernelspec": {
   "display_name": "Python 3 (ipykernel)",
   "language": "python",
   "name": "python3"
  },
  "language_info": {
   "codemirror_mode": {
    "name": "ipython",
    "version": 3
   },
   "file_extension": ".py",
   "mimetype": "text/x-python",
   "name": "python",
   "nbconvert_exporter": "python",
   "pygments_lexer": "ipython3",
   "version": "3.11.5"
  }
 },
 "nbformat": 4,
 "nbformat_minor": 5
}
